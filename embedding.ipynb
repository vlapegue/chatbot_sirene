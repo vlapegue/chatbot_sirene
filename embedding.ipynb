{
 "cells": [
  {
   "cell_type": "code",
   "execution_count": null,
   "id": "5ab4d4e4-e4bb-411d-95af-5361e27db01f",
   "metadata": {},
   "outputs": [],
   "source": [
    "# Embedding des splits"
   ]
  },
  {
   "cell_type": "code",
   "execution_count": null,
   "id": "dc1c60e5-1ef2-4e77-9dbd-80ca0f4ae1c4",
   "metadata": {},
   "outputs": [],
   "source": [
    "# On teste l'embedding de HuggingFace\n",
    "!pip install sentence-transformers\n",
    "from langchain.embeddings import HuggingFaceEmbeddings\n",
    "embeddings = HuggingFaceEmbeddings()"
   ]
  },
  {
   "cell_type": "code",
   "execution_count": null,
   "id": "17bf2ab0-64ff-4b11-85f6-ae8115b9e07f",
   "metadata": {},
   "outputs": [],
   "source": [
    "text = \"This is a test document.\""
   ]
  },
  {
   "cell_type": "code",
   "execution_count": null,
   "id": "728a7ff3-b224-498f-8707-62b8ce0804fe",
   "metadata": {},
   "outputs": [],
   "source": [
    "query_result = embeddings.embed_query(text)\n",
    "print(query_result[:5])"
   ]
  },
  {
   "cell_type": "code",
   "execution_count": null,
   "id": "ebc276f7-412e-4321-824e-e71e0cb3a2c3",
   "metadata": {},
   "outputs": [],
   "source": [
    "doc_result = embeddings.embed_documents([text])\n",
    "print(doc_result[0][:5])"
   ]
  },
  {
   "cell_type": "code",
   "execution_count": null,
   "id": "3e5e1d9f-114f-4e26-97ed-30fc7ead3d45",
   "metadata": {},
   "outputs": [],
   "source": []
  },
  {
   "cell_type": "code",
   "execution_count": null,
   "id": "487f3fb7-f2e1-4da9-b4b6-4b533e88f27f",
   "metadata": {},
   "outputs": [],
   "source": []
  },
  {
   "cell_type": "code",
   "execution_count": null,
   "id": "63e3944b-fffc-40e7-b058-c44b469d39f4",
   "metadata": {},
   "outputs": [],
   "source": []
  },
  {
   "cell_type": "code",
   "execution_count": null,
   "id": "272a821b-90c7-4002-ab25-6a199b369091",
   "metadata": {},
   "outputs": [],
   "source": []
  }
 ],
 "metadata": {
  "kernelspec": {
   "display_name": "Python 3 (ipykernel)",
   "language": "python",
   "name": "python3"
  },
  "language_info": {
   "codemirror_mode": {
    "name": "ipython",
    "version": 3
   },
   "file_extension": ".py",
   "mimetype": "text/x-python",
   "name": "python",
   "nbconvert_exporter": "python",
   "pygments_lexer": "ipython3",
   "version": "3.11.4"
  }
 },
 "nbformat": 4,
 "nbformat_minor": 5
}
