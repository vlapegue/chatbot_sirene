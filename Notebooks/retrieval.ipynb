{
 "cells": [
  {
   "cell_type": "code",
   "execution_count": null,
   "id": "e8310118-e528-4803-ac0b-6a1092db63e9",
   "metadata": {},
   "outputs": [],
   "source": [
    "# Utilisation de MMR : équilibre entre pertinence et diversité des documents retrouvés\n",
    "docs_mmr = vectordb.max_marginal_relevance_search(question,k=3)"
   ]
  },
  {
   "cell_type": "code",
   "execution_count": null,
   "id": "7e1b921e-1aef-43c9-8749-facf4b62f2c4",
   "metadata": {},
   "outputs": [],
   "source": [
    "# Utiliser automatiquement les infos présentes dans les metadata : \n",
    "# we can use `SelfQueryRetriever`, which uses an LLM to extract:\n",
    "# 1. The `query` string to use for vector search\n",
    "# 2. A metadata filter to pass in as well"
   ]
  },
  {
   "cell_type": "code",
   "execution_count": null,
   "id": "0a82a5fe-f532-4e21-b361-295ab0c7bf91",
   "metadata": {},
   "outputs": [],
   "source": [
    "# Important de bien remplir \"description\" vu que ce sera lu par le LLM\n",
    "metadata_field_info = [\n",
    "    AttributeInfo(\n",
    "        name=\"Header 1\",\n",
    "        description=\"Le thème général auquel la question se rattache. Les thèmes généraux rencontrés portent en général sur l'obtention d'un avis de situation, \\\n",
    "        le changement du statut de diffusion des données, les démarches et le suivi des formalités de création, modification ou cessation d'entreprise, \\\n",
    "        ou l'activté principale exercée\",\n",
    "        type=\"string\",\n",
    "    ),\n",
    "    AttributeInfo(\n",
    "        name=\"Header 2\",\n",
    "        description=\"La catégorie à laquelle la questions se rattache, au sein du thème général \",\n",
    "        type=\"string\",\n",
    "    ),\n",
    "    AttributeInfo(\n",
    "        name=\"Header 3\",\n",
    "        description=\"La sous-catégorie à laquelle la question est rattachée\",\n",
    "        type=\"string\",\n",
    "    ),\n",
    "]"
   ]
  },
  {
   "cell_type": "code",
   "execution_count": null,
   "id": "1e934bf3-b406-4816-ae96-1f87ab1d3254",
   "metadata": {},
   "outputs": [],
   "source": []
  },
  {
   "cell_type": "code",
   "execution_count": null,
   "id": "cd1410ea-de48-430f-9503-bb724643927e",
   "metadata": {},
   "outputs": [],
   "source": []
  },
  {
   "cell_type": "code",
   "execution_count": null,
   "id": "c6819cb8-d161-41e9-8dc4-ca48d582608e",
   "metadata": {},
   "outputs": [],
   "source": []
  },
  {
   "cell_type": "code",
   "execution_count": null,
   "id": "939e14c6-ccac-48dc-b44f-9f0223f3387f",
   "metadata": {},
   "outputs": [],
   "source": []
  },
  {
   "cell_type": "code",
   "execution_count": null,
   "id": "95fec5a0-8e6d-4121-b05b-5efa819e8d8a",
   "metadata": {},
   "outputs": [],
   "source": []
  },
  {
   "cell_type": "code",
   "execution_count": null,
   "id": "85112d76-6757-40ab-bddc-3d552dc66cde",
   "metadata": {},
   "outputs": [],
   "source": []
  },
  {
   "cell_type": "code",
   "execution_count": null,
   "id": "6d6a9428-92b6-4c43-b626-5f58da5cf79b",
   "metadata": {},
   "outputs": [],
   "source": []
  }
 ],
 "metadata": {
  "kernelspec": {
   "display_name": "Python 3 (ipykernel)",
   "language": "python",
   "name": "python3"
  },
  "language_info": {
   "codemirror_mode": {
    "name": "ipython",
    "version": 3
   },
   "file_extension": ".py",
   "mimetype": "text/x-python",
   "name": "python",
   "nbconvert_exporter": "python",
   "pygments_lexer": "ipython3",
   "version": "3.10.12"
  }
 },
 "nbformat": 4,
 "nbformat_minor": 5
}
