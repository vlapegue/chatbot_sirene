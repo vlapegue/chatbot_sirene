{
 "cells": [
  {
   "cell_type": "code",
   "execution_count": null,
   "id": "6cb9dacf-3bcf-42c1-b8ca-ed47c167db4e",
   "metadata": {},
   "outputs": [],
   "source": [
    "# Installation des modules\n",
    "import os\n",
    "import sys\n",
    "! pip install langchain \n",
    "! pip install pypdf"
   ]
  },
  {
   "cell_type": "code",
   "execution_count": null,
   "id": "13b84462-c771-4084-955f-72f0dcd761e5",
   "metadata": {},
   "outputs": [],
   "source": [
    "# On charge la base de connaissances"
   ]
  },
  {
   "cell_type": "code",
   "execution_count": null,
   "id": "9f47c7f7-c103-42e8-b330-cf4de9a1da85",
   "metadata": {},
   "outputs": [],
   "source": [
    "# Au format txt\n",
    "from langchain.document_loaders import TextLoader\n",
    "loader = TextLoader(\"bdc.txt\")\n",
    "pages_txt=loader.load()"
   ]
  },
  {
   "cell_type": "code",
   "execution_count": null,
   "id": "f3d574d5-6f1f-4e8e-9338-8a3f26477f20",
   "metadata": {},
   "outputs": [],
   "source": [
    "print(len(pages_txt))\n",
    "#print(pages_txt)"
   ]
  },
  {
   "cell_type": "code",
   "execution_count": null,
   "id": "f026a7b2-6246-4c5d-9d97-7e8728b8a616",
   "metadata": {},
   "outputs": [],
   "source": [
    "# Splitting selon les Markdowns\n",
    "from langchain.text_splitter import MarkdownHeaderTextSplitter"
   ]
  },
  {
   "cell_type": "code",
   "execution_count": null,
   "id": "bcfbb5a8-d23f-4b3e-a464-566cca57b3ef",
   "metadata": {},
   "outputs": [],
   "source": [
    "headers_to_split_on = [\n",
    "    (\"###\", \"Header 1\"),\n",
    "    (\"##\", \"Header 2\"),\n",
    "    (\"#\", \"Header 3\"),\n",
    "]"
   ]
  },
  {
   "cell_type": "code",
   "execution_count": null,
   "id": "98af275e-2b85-46fd-9543-45a493a6ff3a",
   "metadata": {},
   "outputs": [],
   "source": [
    "markdown_splitter = MarkdownHeaderTextSplitter(\n",
    "    headers_to_split_on=headers_to_split_on\n",
    ")"
   ]
  },
  {
   "cell_type": "code",
   "execution_count": null,
   "id": "cff91c26-8120-4283-8ed4-f2e7f5787335",
   "metadata": {},
   "outputs": [],
   "source": [
    "md_header_splits = markdown_splitter.split_text(pages_txt[0].page_content)"
   ]
  },
  {
   "cell_type": "code",
   "execution_count": null,
   "id": "1083afa7-83a8-4f26-b559-0d38c733fc47",
   "metadata": {},
   "outputs": [],
   "source": [
    "print(len(md_header_splits))"
   ]
  },
  {
   "cell_type": "code",
   "execution_count": null,
   "id": "fecc9704-43ee-42a7-954a-5efd1a3fbdc2",
   "metadata": {},
   "outputs": [],
   "source": [
    "#print(md_header_splits[0].page_content)"
   ]
  },
  {
   "cell_type": "code",
   "execution_count": null,
   "id": "3775badc-5042-4409-b28c-73da2fc58bb1",
   "metadata": {},
   "outputs": [],
   "source": [
    "for i in range(len(md_header_splits)):\n",
    "    print(f'Contenu n° {i} : {len(md_header_splits[i].page_content)}')"
   ]
  },
  {
   "cell_type": "code",
   "execution_count": null,
   "id": "e6cb7fb1-0a92-43fe-ac68-e06c98428da1",
   "metadata": {},
   "outputs": [],
   "source": []
  },
  {
   "cell_type": "code",
   "execution_count": null,
   "id": "bab660a4-ac58-4546-82f4-7f270883a147",
   "metadata": {},
   "outputs": [],
   "source": [
    "# Cas d'un splitting selon des séparateurs\n",
    "from langchain.text_splitter import CharacterTextSplitter\n",
    "ctext_splitter = CharacterTextSplitter(\n",
    "    separator=\"\\n\",\n",
    "    chunk_size=1000,\n",
    "    chunk_overlap=0,\n",
    "    length_function=len\n",
    ")"
   ]
  },
  {
   "cell_type": "code",
   "execution_count": null,
   "id": "6f1336d4-5944-4af0-96db-d03db12dce51",
   "metadata": {},
   "outputs": [],
   "source": [
    "docs = ctext_splitter.split_documents(pages_txt)"
   ]
  },
  {
   "cell_type": "code",
   "execution_count": null,
   "id": "60a8c369-ac6b-4e71-b57c-fa52b07c6c02",
   "metadata": {},
   "outputs": [],
   "source": [
    "len(docs)"
   ]
  },
  {
   "cell_type": "code",
   "execution_count": null,
   "id": "72e57787-651a-40a4-87b9-90ca2b634c53",
   "metadata": {},
   "outputs": [],
   "source": [
    "#print(docs[0])"
   ]
  },
  {
   "cell_type": "code",
   "execution_count": null,
   "id": "84c44fa2-dbd2-4e36-94b4-aa7d73dd1e0d",
   "metadata": {},
   "outputs": [],
   "source": []
  },
  {
   "cell_type": "code",
   "execution_count": null,
   "id": "0287576d-8fea-4c3d-8905-44f67ee45a75",
   "metadata": {},
   "outputs": [],
   "source": []
  }
 ],
 "metadata": {
  "kernelspec": {
   "display_name": "Python 3 (ipykernel)",
   "language": "python",
   "name": "python3"
  },
  "language_info": {
   "codemirror_mode": {
    "name": "ipython",
    "version": 3
   },
   "file_extension": ".py",
   "mimetype": "text/x-python",
   "name": "python",
   "nbconvert_exporter": "python",
   "pygments_lexer": "ipython3",
   "version": "3.11.4"
  }
 },
 "nbformat": 4,
 "nbformat_minor": 5
}
