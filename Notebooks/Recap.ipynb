{
 "cells": [
  {
   "cell_type": "code",
   "execution_count": null,
   "id": "bd959a0d-589b-43dd-81ad-8ba870c44c8f",
   "metadata": {},
   "outputs": [],
   "source": [
    "# Installation des packages\n",
    "import os\n",
    "import sys\n",
    "! pip install langchain \n",
    "! pip install pypdf\n",
    "!pip install sentence-transformers\n",
    "!pip install chromadb\n",
    "!{sys.executable} -m pip install --upgrade pip setuptools wheel\n",
    "!{sys.executable} -m pip install --disable-pip-version-check torch torchdata\n",
    "!{sys.executable} -m pip install transformers==4.27.2 \n",
    "!pip install -U datasets==2.14.6\n",
    "!pip install fsspec==2023.9.2\n",
    "!pip install lark"
   ]
  },
  {
   "cell_type": "code",
   "execution_count": null,
   "id": "d6aae68a-5986-4497-8feb-30ef7247b890",
   "metadata": {},
   "outputs": [],
   "source": [
    "# Importation\n",
    "from langchain.document_loaders import TextLoader\n",
    "from langchain.text_splitter import MarkdownHeaderTextSplitter\n",
    "from langchain.embeddings import HuggingFaceEmbeddings\n",
    "from langchain.vectorstores import Chroma\n",
    "from langchain.retrievers.self_query.base import SelfQueryRetriever\n",
    "from langchain.chains.query_constructor.base import AttributeInfo\n",
    "import torch\n",
    "from datasets import load_dataset\n",
    "import transformers\n",
    "from transformers import AutoModelForSeq2SeqLM\n",
    "from transformers import AutoTokenizer\n",
    "from transformers import GenerationConfig\n",
    "from transformers import pipeline"
   ]
  },
  {
   "cell_type": "code",
   "execution_count": null,
   "id": "74f8cb9f-9c45-4807-93d5-65d2f0cbcd64",
   "metadata": {},
   "outputs": [],
   "source": [
    "# Partie split"
   ]
  },
  {
   "cell_type": "code",
   "execution_count": null,
   "id": "01029666-51a3-420d-9cef-9d9de14e55d0",
   "metadata": {},
   "outputs": [],
   "source": [
    "loader = TextLoader(\"bdc.txt\")\n",
    "pages_txt=loader.load()"
   ]
  },
  {
   "cell_type": "code",
   "execution_count": null,
   "id": "c4c65458-bdc5-413f-b7a0-fec66e0a0ea1",
   "metadata": {},
   "outputs": [],
   "source": [
    "headers_to_split_on = [\n",
    "    (\"###\", \"Header 1\"),\n",
    "    (\"##\", \"Header 2\"),\n",
    "    (\"#\", \"Header 3\"),\n",
    "]"
   ]
  },
  {
   "cell_type": "code",
   "execution_count": null,
   "id": "a9e32b63-c455-4afd-bcf5-511114f6135a",
   "metadata": {},
   "outputs": [],
   "source": [
    "markdown_splitter = MarkdownHeaderTextSplitter(\n",
    "    headers_to_split_on=headers_to_split_on\n",
    ")"
   ]
  },
  {
   "cell_type": "code",
   "execution_count": null,
   "id": "5b95f7d2-094e-47bc-b859-b8b6a8daf1b1",
   "metadata": {},
   "outputs": [],
   "source": [
    "md_header_splits = markdown_splitter.split_text(pages_txt[0].page_content)"
   ]
  },
  {
   "cell_type": "code",
   "execution_count": null,
   "id": "d1b4de22-00b2-4033-b329-f7f1c973b983",
   "metadata": {},
   "outputs": [],
   "source": [
    "print(len(md_header_splits))"
   ]
  },
  {
   "cell_type": "code",
   "execution_count": null,
   "id": "5cdccdaf-6724-496e-9820-9ebe3b7329b4",
   "metadata": {},
   "outputs": [],
   "source": [
    "for i in range(len(md_header_splits)):\n",
    "    print(f'Contenu n° {i} : {len(md_header_splits[i].page_content)}')"
   ]
  },
  {
   "cell_type": "code",
   "execution_count": null,
   "id": "7f06cbfa-3c17-4ad3-8788-34389d019eba",
   "metadata": {},
   "outputs": [],
   "source": [
    "# Partie embedding"
   ]
  },
  {
   "cell_type": "code",
   "execution_count": null,
   "id": "8675b30d-c2f6-4450-9eab-dbc0036b5ae0",
   "metadata": {},
   "outputs": [],
   "source": [
    "embeddings = HuggingFaceEmbeddings()"
   ]
  },
  {
   "cell_type": "code",
   "execution_count": null,
   "id": "dfcfa264-69d2-419e-9e7e-f7b84a632d71",
   "metadata": {},
   "outputs": [],
   "source": [
    "persist_directory = 'chroma/'"
   ]
  },
  {
   "cell_type": "code",
   "execution_count": null,
   "id": "a0294e07-fa19-464e-ab58-ac0524be926b",
   "metadata": {},
   "outputs": [],
   "source": [
    "# Vider le dossier à la main ou utiliser cette ligne si besoin\n",
    "!rm -rf ./docs/chroma  # remove old database files if any"
   ]
  },
  {
   "cell_type": "code",
   "execution_count": null,
   "id": "3a6399f1-13c0-4af0-b24c-91c5e8c844a8",
   "metadata": {},
   "outputs": [],
   "source": [
    "vectordb = Chroma.from_documents(\n",
    "    documents=md_header_splits,\n",
    "    embedding=embeddings,\n",
    "    persist_directory=persist_directory\n",
    ")"
   ]
  },
  {
   "cell_type": "code",
   "execution_count": null,
   "id": "439cadae-b941-44f8-9af1-b3a1a1623c33",
   "metadata": {},
   "outputs": [],
   "source": [
    "print(vectordb._collection.count())"
   ]
  },
  {
   "cell_type": "code",
   "execution_count": null,
   "id": "b933d7b8-4611-4aec-a213-48aa7abdd061",
   "metadata": {},
   "outputs": [],
   "source": [
    "question = \"Je n'arrive pas à obtenir mon avis de situation\""
   ]
  },
  {
   "cell_type": "code",
   "execution_count": null,
   "id": "2eacfba0-8147-4dc3-9270-e656799f5e42",
   "metadata": {},
   "outputs": [],
   "source": [
    "docs = vectordb.similarity_search(question,k=5)"
   ]
  },
  {
   "cell_type": "code",
   "execution_count": null,
   "id": "5943b482-bebb-4a56-81f4-3239832f3170",
   "metadata": {},
   "outputs": [],
   "source": [
    "# Let's save this so we can use it later!\n",
    "vectordb.persist()"
   ]
  },
  {
   "cell_type": "code",
   "execution_count": null,
   "id": "359c0e77-38ee-4ac5-bb5b-45034bb4a81a",
   "metadata": {},
   "outputs": [],
   "source": [
    "# Utilisation de MMR : équilibre entre pertinence et diversité des documents retrouvés\n",
    "docs_mmr = vectordb.max_marginal_relevance_search(question,k=2, fetch_k=3)"
   ]
  },
  {
   "cell_type": "code",
   "execution_count": null,
   "id": "7ac193f7-9e8d-478c-b733-75a9bfc3f0c6",
   "metadata": {},
   "outputs": [],
   "source": [
    "# Utiliser automatiquement les infos présentes dans les metadata : \n",
    "# we can use `SelfQueryRetriever`, which uses an LLM to extract:\n",
    "# 1. The `query` string to use for vector search\n",
    "# 2. A metadata filter to pass in as well"
   ]
  },
  {
   "cell_type": "code",
   "execution_count": null,
   "id": "e9d21b50-1150-43e3-8a1b-f28598568863",
   "metadata": {},
   "outputs": [],
   "source": [
    "# Important de bien remplir \"description\" vu que ce sera lu par le LLM\n",
    "metadata_field_info = [\n",
    "    AttributeInfo(\n",
    "        name=\"Header 1\",\n",
    "        description=\"Le thème général auquel la question se rattache\",\n",
    "        type=\"string\",\n",
    "    ),\n",
    "    AttributeInfo(\n",
    "        name=\"Header 2\",\n",
    "        description=\"La catégorie au sein du thème général\",\n",
    "        type=\"string\",\n",
    "    ),\n",
    "    AttributeInfo(\n",
    "        name=\"Header 3\",\n",
    "        description=\"La sous-catégorie à laquelle la question est rattachée\",\n",
    "        type=\"string\",\n",
    "    ),\n",
    "]"
   ]
  },
  {
   "cell_type": "code",
   "execution_count": null,
   "id": "0f130ee6-3199-46ea-b5a4-07d4eb1d6dab",
   "metadata": {},
   "outputs": [],
   "source": []
  },
  {
   "cell_type": "code",
   "execution_count": null,
   "id": "fbd90c93-d4bf-4eb2-8d08-9bd644889cf0",
   "metadata": {},
   "outputs": [],
   "source": [
    "# model='gpt2' --> dépassement de max tokens\n",
    "from langchain import HuggingFacePipeline\n",
    "document_content_description = \"Questions les plus fréquentes\"\n",
    "llm = HuggingFacePipeline(pipeline=pipeline('text-generation',model='databricks/dolly-v2-3b',torch_dtype=torch.bfloat16,\\\n",
    "                                            max_length=2000,trust_remote_code=True))\n",
    "retriever = SelfQueryRetriever.from_llm(\n",
    "    llm,\n",
    "    vectordb,\n",
    "    document_content_description,\n",
    "    metadata_field_info,\n",
    "    verbose=True,\n",
    "    handle_parsing_errors=True\n",
    ")"
   ]
  },
  {
   "cell_type": "code",
   "execution_count": null,
   "id": "b15738a8-ad7e-4cb4-a71b-2301f94aa1f1",
   "metadata": {},
   "outputs": [],
   "source": [
    "question = \"Je n'arrive pas à obtenir ma fiche Insee\""
   ]
  },
  {
   "cell_type": "code",
   "execution_count": null,
   "id": "59b46894-4178-4691-8d79-90c9b17ca49a",
   "metadata": {},
   "outputs": [],
   "source": [
    "docs = retriever.get_relevant_documents(question)"
   ]
  },
  {
   "cell_type": "code",
   "execution_count": null,
   "id": "8f31af72-639b-4789-ab87-23b94033347b",
   "metadata": {},
   "outputs": [],
   "source": []
  },
  {
   "cell_type": "code",
   "execution_count": null,
   "id": "c2f6b08c-d2eb-43cd-8a04-444fc93e55e0",
   "metadata": {},
   "outputs": [],
   "source": []
  },
  {
   "cell_type": "code",
   "execution_count": null,
   "id": "cc676655-b339-4ac6-ae49-c08a213f5a10",
   "metadata": {},
   "outputs": [],
   "source": []
  },
  {
   "cell_type": "code",
   "execution_count": null,
   "id": "97fb0f6c-2318-4e63-aa1d-d56a38cfd6ac",
   "metadata": {},
   "outputs": [],
   "source": []
  },
  {
   "cell_type": "code",
   "execution_count": null,
   "id": "cb79a11a-81e5-4800-b6dd-bdfb0962d0ec",
   "metadata": {},
   "outputs": [],
   "source": []
  },
  {
   "cell_type": "code",
   "execution_count": null,
   "id": "697db7e7-846f-40f3-9366-bac38f8fb76d",
   "metadata": {},
   "outputs": [],
   "source": []
  },
  {
   "cell_type": "code",
   "execution_count": null,
   "id": "ab368c5c-b2f6-45af-8a92-a212b569a5b1",
   "metadata": {},
   "outputs": [],
   "source": []
  },
  {
   "cell_type": "code",
   "execution_count": null,
   "id": "5313b2ce-0cb2-4aa0-b88e-d66f878c359a",
   "metadata": {},
   "outputs": [],
   "source": []
  },
  {
   "cell_type": "code",
   "execution_count": null,
   "id": "a13f952e-9fc0-42fd-a39a-e35a78741e59",
   "metadata": {},
   "outputs": [],
   "source": []
  },
  {
   "cell_type": "code",
   "execution_count": null,
   "id": "c87ac2aa-6c9e-4d94-bfee-c189f04e7ec8",
   "metadata": {},
   "outputs": [],
   "source": []
  },
  {
   "cell_type": "code",
   "execution_count": null,
   "id": "2118bb64-8172-489c-8f85-cf026e751b75",
   "metadata": {},
   "outputs": [],
   "source": []
  }
 ],
 "metadata": {
  "kernelspec": {
   "display_name": "Python 3 (ipykernel)",
   "language": "python",
   "name": "python3"
  },
  "language_info": {
   "codemirror_mode": {
    "name": "ipython",
    "version": 3
   },
   "file_extension": ".py",
   "mimetype": "text/x-python",
   "name": "python",
   "nbconvert_exporter": "python",
   "pygments_lexer": "ipython3",
   "version": "3.10.12"
  }
 },
 "nbformat": 4,
 "nbformat_minor": 5
}
