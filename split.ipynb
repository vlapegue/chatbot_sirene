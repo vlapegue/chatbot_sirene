{
 "cells": [
  {
   "cell_type": "code",
   "execution_count": 23,
   "id": "6cb9dacf-3bcf-42c1-b8ca-ed47c167db4e",
   "metadata": {},
   "outputs": [
    {
     "name": "stdout",
     "output_type": "stream",
     "text": [
      "Requirement already satisfied: langchain in /opt/mamba/lib/python3.11/site-packages (0.0.333)\n",
      "Requirement already satisfied: PyYAML>=5.3 in /opt/mamba/lib/python3.11/site-packages (from langchain) (6.0.1)\n",
      "Requirement already satisfied: SQLAlchemy<3,>=1.4 in /opt/mamba/lib/python3.11/site-packages (from langchain) (2.0.23)\n",
      "Requirement already satisfied: aiohttp<4.0.0,>=3.8.3 in /opt/mamba/lib/python3.11/site-packages (from langchain) (3.8.6)\n",
      "Requirement already satisfied: anyio<4.0 in /opt/mamba/lib/python3.11/site-packages (from langchain) (3.7.1)\n",
      "Requirement already satisfied: dataclasses-json<0.7,>=0.5.7 in /opt/mamba/lib/python3.11/site-packages (from langchain) (0.6.1)\n",
      "Requirement already satisfied: jsonpatch<2.0,>=1.33 in /opt/mamba/lib/python3.11/site-packages (from langchain) (1.33)\n",
      "Requirement already satisfied: langsmith<0.1.0,>=0.0.62 in /opt/mamba/lib/python3.11/site-packages (from langchain) (0.0.63)\n",
      "Requirement already satisfied: numpy<2,>=1 in /opt/mamba/lib/python3.11/site-packages (from langchain) (1.24.1)\n",
      "Requirement already satisfied: pydantic<3,>=1 in /opt/mamba/lib/python3.11/site-packages (from langchain) (2.4.2)\n",
      "Requirement already satisfied: requests<3,>=2 in /opt/mamba/lib/python3.11/site-packages (from langchain) (2.31.0)\n",
      "Requirement already satisfied: tenacity<9.0.0,>=8.1.0 in /opt/mamba/lib/python3.11/site-packages (from langchain) (8.2.3)\n",
      "Requirement already satisfied: attrs>=17.3.0 in /opt/mamba/lib/python3.11/site-packages (from aiohttp<4.0.0,>=3.8.3->langchain) (23.1.0)\n",
      "Requirement already satisfied: charset-normalizer<4.0,>=2.0 in /opt/mamba/lib/python3.11/site-packages (from aiohttp<4.0.0,>=3.8.3->langchain) (3.2.0)\n",
      "Requirement already satisfied: multidict<7.0,>=4.5 in /opt/mamba/lib/python3.11/site-packages (from aiohttp<4.0.0,>=3.8.3->langchain) (6.0.4)\n",
      "Requirement already satisfied: async-timeout<5.0,>=4.0.0a3 in /opt/mamba/lib/python3.11/site-packages (from aiohttp<4.0.0,>=3.8.3->langchain) (4.0.3)\n",
      "Requirement already satisfied: yarl<2.0,>=1.0 in /opt/mamba/lib/python3.11/site-packages (from aiohttp<4.0.0,>=3.8.3->langchain) (1.9.2)\n",
      "Requirement already satisfied: frozenlist>=1.1.1 in /opt/mamba/lib/python3.11/site-packages (from aiohttp<4.0.0,>=3.8.3->langchain) (1.4.0)\n",
      "Requirement already satisfied: aiosignal>=1.1.2 in /opt/mamba/lib/python3.11/site-packages (from aiohttp<4.0.0,>=3.8.3->langchain) (1.3.1)\n",
      "Requirement already satisfied: idna>=2.8 in /opt/mamba/lib/python3.11/site-packages (from anyio<4.0->langchain) (3.4)\n",
      "Requirement already satisfied: sniffio>=1.1 in /opt/mamba/lib/python3.11/site-packages (from anyio<4.0->langchain) (1.3.0)\n",
      "Requirement already satisfied: marshmallow<4.0.0,>=3.18.0 in /opt/mamba/lib/python3.11/site-packages (from dataclasses-json<0.7,>=0.5.7->langchain) (3.20.1)\n",
      "Requirement already satisfied: typing-inspect<1,>=0.4.0 in /opt/mamba/lib/python3.11/site-packages (from dataclasses-json<0.7,>=0.5.7->langchain) (0.9.0)\n",
      "Requirement already satisfied: jsonpointer>=1.9 in /opt/mamba/lib/python3.11/site-packages (from jsonpatch<2.0,>=1.33->langchain) (2.0)\n",
      "Requirement already satisfied: annotated-types>=0.4.0 in /opt/mamba/lib/python3.11/site-packages (from pydantic<3,>=1->langchain) (0.6.0)\n",
      "Requirement already satisfied: pydantic-core==2.10.1 in /opt/mamba/lib/python3.11/site-packages (from pydantic<3,>=1->langchain) (2.10.1)\n",
      "Requirement already satisfied: typing-extensions>=4.6.1 in /opt/mamba/lib/python3.11/site-packages (from pydantic<3,>=1->langchain) (4.8.0)\n",
      "Requirement already satisfied: urllib3<3,>=1.21.1 in /opt/mamba/lib/python3.11/site-packages (from requests<3,>=2->langchain) (1.26.18)\n",
      "Requirement already satisfied: certifi>=2017.4.17 in /opt/mamba/lib/python3.11/site-packages (from requests<3,>=2->langchain) (2023.7.22)\n",
      "Requirement already satisfied: greenlet!=0.4.17 in /opt/mamba/lib/python3.11/site-packages (from SQLAlchemy<3,>=1.4->langchain) (3.0.1)\n",
      "Requirement already satisfied: packaging>=17.0 in /opt/mamba/lib/python3.11/site-packages (from marshmallow<4.0.0,>=3.18.0->dataclasses-json<0.7,>=0.5.7->langchain) (23.1)\n",
      "Requirement already satisfied: mypy-extensions>=0.3.0 in /opt/mamba/lib/python3.11/site-packages (from typing-inspect<1,>=0.4.0->dataclasses-json<0.7,>=0.5.7->langchain) (1.0.0)\n",
      "Requirement already satisfied: pypdf in /opt/mamba/lib/python3.11/site-packages (3.17.0)\n"
     ]
    }
   ],
   "source": [
    "# Installation des modules\n",
    "import os\n",
    "import sys\n",
    "! pip install langchain \n",
    "! pip install pypdf"
   ]
  },
  {
   "cell_type": "code",
   "execution_count": 24,
   "id": "13b84462-c771-4084-955f-72f0dcd761e5",
   "metadata": {},
   "outputs": [],
   "source": [
    "# On charge la base de connaissances"
   ]
  },
  {
   "cell_type": "code",
   "execution_count": 25,
   "id": "9f47c7f7-c103-42e8-b330-cf4de9a1da85",
   "metadata": {},
   "outputs": [],
   "source": [
    "# Au format txt\n",
    "from langchain.document_loaders import TextLoader\n",
    "loader = TextLoader(\"bdc.txt\")\n",
    "pages_txt=loader.load()"
   ]
  },
  {
   "cell_type": "code",
   "execution_count": 26,
   "id": "f3d574d5-6f1f-4e8e-9338-8a3f26477f20",
   "metadata": {},
   "outputs": [
    {
     "name": "stdout",
     "output_type": "stream",
     "text": [
      "1\n"
     ]
    }
   ],
   "source": [
    "print(len(pages_txt))\n",
    "#print(pages_txt)"
   ]
  },
  {
   "cell_type": "code",
   "execution_count": 34,
   "id": "f026a7b2-6246-4c5d-9d97-7e8728b8a616",
   "metadata": {},
   "outputs": [],
   "source": [
    "# Splitting selon les Markdowns\n",
    "from langchain.text_splitter import MarkdownHeaderTextSplitter"
   ]
  },
  {
   "cell_type": "code",
   "execution_count": 35,
   "id": "bcfbb5a8-d23f-4b3e-a464-566cca57b3ef",
   "metadata": {},
   "outputs": [],
   "source": [
    "headers_to_split_on = [\n",
    "    (\"###\", \"Header 1\"),\n",
    "    (\"##\", \"Header 2\"),\n",
    "    (\"#\", \"Header 3\"),\n",
    "]"
   ]
  },
  {
   "cell_type": "code",
   "execution_count": 36,
   "id": "98af275e-2b85-46fd-9543-45a493a6ff3a",
   "metadata": {},
   "outputs": [],
   "source": [
    "markdown_splitter = MarkdownHeaderTextSplitter(\n",
    "    headers_to_split_on=headers_to_split_on\n",
    ")"
   ]
  },
  {
   "cell_type": "code",
   "execution_count": 37,
   "id": "cff91c26-8120-4283-8ed4-f2e7f5787335",
   "metadata": {},
   "outputs": [],
   "source": [
    "md_header_splits = markdown_splitter.split_text(pages_txt[0].page_content)"
   ]
  },
  {
   "cell_type": "code",
   "execution_count": 38,
   "id": "1083afa7-83a8-4f26-b559-0d38c733fc47",
   "metadata": {},
   "outputs": [
    {
     "name": "stdout",
     "output_type": "stream",
     "text": [
      "24\n"
     ]
    }
   ],
   "source": [
    "print(len(md_header_splits))"
   ]
  },
  {
   "cell_type": "code",
   "execution_count": 39,
   "id": "fecc9704-43ee-42a7-954a-5efd1a3fbdc2",
   "metadata": {},
   "outputs": [],
   "source": [
    "#print(md_header_splits[0].page_content)"
   ]
  },
  {
   "cell_type": "code",
   "execution_count": 40,
   "id": "3775badc-5042-4409-b28c-73da2fc58bb1",
   "metadata": {},
   "outputs": [
    {
     "name": "stdout",
     "output_type": "stream",
     "text": [
      "Contenu n° 0 : 237\n",
      "Contenu n° 1 : 485\n",
      "Contenu n° 2 : 639\n",
      "Contenu n° 3 : 2011\n",
      "Contenu n° 4 : 1246\n",
      "Contenu n° 5 : 650\n",
      "Contenu n° 6 : 1434\n",
      "Contenu n° 7 : 1406\n",
      "Contenu n° 8 : 620\n",
      "Contenu n° 9 : 1932\n",
      "Contenu n° 10 : 4249\n",
      "Contenu n° 11 : 1337\n",
      "Contenu n° 12 : 173\n",
      "Contenu n° 13 : 390\n",
      "Contenu n° 14 : 973\n",
      "Contenu n° 15 : 537\n",
      "Contenu n° 16 : 541\n",
      "Contenu n° 17 : 798\n",
      "Contenu n° 18 : 296\n",
      "Contenu n° 19 : 678\n",
      "Contenu n° 20 : 694\n",
      "Contenu n° 21 : 802\n",
      "Contenu n° 22 : 3898\n",
      "Contenu n° 23 : 2348\n"
     ]
    }
   ],
   "source": [
    "for i in range(len(md_header_splits)):\n",
    "    print(f'Contenu n° {i} : {len(md_header_splits[i].page_content)}')"
   ]
  },
  {
   "cell_type": "code",
   "execution_count": 41,
   "id": "bab660a4-ac58-4546-82f4-7f270883a147",
   "metadata": {},
   "outputs": [],
   "source": [
    "# Cas d'un splitting selon des séparateurs\n",
    "from langchain.text_splitter import CharacterTextSplitter\n",
    "ctext_splitter = CharacterTextSplitter(\n",
    "    separator=\"\\n\",\n",
    "    chunk_size=1000,\n",
    "    chunk_overlap=0,\n",
    "    length_function=len\n",
    ")"
   ]
  },
  {
   "cell_type": "code",
   "execution_count": 42,
   "id": "6f1336d4-5944-4af0-96db-d03db12dce51",
   "metadata": {},
   "outputs": [
    {
     "name": "stderr",
     "output_type": "stream",
     "text": [
      "Created a chunk of size 1107, which is longer than the specified 1000\n"
     ]
    }
   ],
   "source": [
    "docs = ctext_splitter.split_documents(pages_txt)"
   ]
  },
  {
   "cell_type": "code",
   "execution_count": 43,
   "id": "60a8c369-ac6b-4e71-b57c-fa52b07c6c02",
   "metadata": {},
   "outputs": [
    {
     "data": {
      "text/plain": [
       "38"
      ]
     },
     "execution_count": 43,
     "metadata": {},
     "output_type": "execute_result"
    }
   ],
   "source": [
    "len(docs)"
   ]
  },
  {
   "cell_type": "code",
   "execution_count": null,
   "id": "72e57787-651a-40a4-87b9-90ca2b634c53",
   "metadata": {},
   "outputs": [],
   "source": [
    "#print(docs[0])"
   ]
  },
  {
   "cell_type": "code",
   "execution_count": null,
   "id": "84c44fa2-dbd2-4e36-94b4-aa7d73dd1e0d",
   "metadata": {},
   "outputs": [],
   "source": []
  },
  {
   "cell_type": "code",
   "execution_count": null,
   "id": "0287576d-8fea-4c3d-8905-44f67ee45a75",
   "metadata": {},
   "outputs": [],
   "source": []
  }
 ],
 "metadata": {
  "kernelspec": {
   "display_name": "Python 3 (ipykernel)",
   "language": "python",
   "name": "python3"
  },
  "language_info": {
   "codemirror_mode": {
    "name": "ipython",
    "version": 3
   },
   "file_extension": ".py",
   "mimetype": "text/x-python",
   "name": "python",
   "nbconvert_exporter": "python",
   "pygments_lexer": "ipython3",
   "version": "3.11.4"
  }
 },
 "nbformat": 4,
 "nbformat_minor": 5
}
