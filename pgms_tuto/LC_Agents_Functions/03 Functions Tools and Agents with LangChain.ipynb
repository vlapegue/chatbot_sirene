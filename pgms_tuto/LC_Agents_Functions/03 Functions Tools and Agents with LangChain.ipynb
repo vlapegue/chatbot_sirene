{
 "cells": [
  {
   "cell_type": "code",
   "execution_count": null,
   "id": "844e0af3",
   "metadata": {},
   "outputs": [],
   "source": [
    "# On combine les deux leçons précédentes : OpenAI fonctions et chaînes"
   ]
  },
  {
   "cell_type": "code",
   "execution_count": null,
   "id": "1bf8b91a",
   "metadata": {},
   "outputs": [],
   "source": [
    "import os\n",
    "import openai\n",
    "\n",
    "from dotenv import load_dotenv, find_dotenv\n",
    "_ = load_dotenv(find_dotenv()) # read local .env file\n",
    "openai.api_key = os.environ['OPENAI_API_KEY']"
   ]
  },
  {
   "cell_type": "code",
   "execution_count": null,
   "id": "2d38535e",
   "metadata": {},
   "outputs": [],
   "source": [
    "from typing import List\n",
    "from pydantic import BaseModel, Field"
   ]
  },
  {
   "cell_type": "code",
   "execution_count": null,
   "id": "1a74a1a6",
   "metadata": {},
   "outputs": [],
   "source": [
    "# Pydantic Syntax"
   ]
  },
  {
   "cell_type": "code",
   "execution_count": null,
   "id": "c7fd853d",
   "metadata": {},
   "outputs": [],
   "source": [
    "# Manière plus élégante de définir des structures de classes en Python\n",
    "# Utilisé at eruntime pour data validation et conversion\n",
    "# La définition explicite des fonctions OpenAI est longue"
   ]
  },
  {
   "cell_type": "code",
   "execution_count": 1,
   "id": "12670f11",
   "metadata": {},
   "outputs": [],
   "source": [
    "# Standard Python\n",
    "class User:\n",
    "    def __init__(self, name: str, age: int, email: str):\n",
    "        self.name = name\n",
    "        self.age = age\n",
    "        self.email = email"
   ]
  },
  {
   "cell_type": "code",
   "execution_count": 2,
   "id": "19d31727",
   "metadata": {},
   "outputs": [],
   "source": [
    "foo = User(name=\"Joe\",age=32, email=\"joe@gmail.com\")"
   ]
  },
  {
   "cell_type": "code",
   "execution_count": 3,
   "id": "d7ab4520",
   "metadata": {},
   "outputs": [
    {
     "data": {
      "text/plain": [
       "'Joe'"
      ]
     },
     "execution_count": 3,
     "metadata": {},
     "output_type": "execute_result"
    }
   ],
   "source": [
    "foo.name"
   ]
  },
  {
   "cell_type": "code",
   "execution_count": 4,
   "id": "62464c88",
   "metadata": {},
   "outputs": [],
   "source": [
    "foo = User(name=\"Joe\",age=\"bar\", email=\"joe@gmail.com\")"
   ]
  },
  {
   "cell_type": "code",
   "execution_count": 5,
   "id": "eca324c1",
   "metadata": {},
   "outputs": [
    {
     "data": {
      "text/plain": [
       "'bar'"
      ]
     },
     "execution_count": 5,
     "metadata": {},
     "output_type": "execute_result"
    }
   ],
   "source": [
    "# Python accepte des attributs qui ne respectent pas le format initialement demandé, \n",
    "# c'est un problème pour faire tourner les chaînes\n",
    "foo.age"
   ]
  },
  {
   "cell_type": "code",
   "execution_count": null,
   "id": "bddc985c",
   "metadata": {},
   "outputs": [],
   "source": [
    "# Idem avec Pydantic\n",
    "\n",
    "class pUser(BaseModel):\n",
    "    name: str\n",
    "    age: int\n",
    "    email: str"
   ]
  },
  {
   "cell_type": "code",
   "execution_count": null,
   "id": "959b475c",
   "metadata": {},
   "outputs": [],
   "source": [
    "foo_p = pUser(name=\"Jane\", age=32, email=\"jane@gmail.com\")"
   ]
  },
  {
   "cell_type": "code",
   "execution_count": null,
   "id": "90c61615",
   "metadata": {},
   "outputs": [],
   "source": [
    "foo_p.name"
   ]
  },
  {
   "cell_type": "code",
   "execution_count": null,
   "id": "4db7cd66",
   "metadata": {},
   "outputs": [],
   "source": [
    "# Avec Pydantic, l'instanciation sur de mauvais formats renvoie une erreur\n",
    "foo_p = pUser(name=\"Jane\", age=\"bar\", email=\"jane@gmail.com\")"
   ]
  },
  {
   "cell_type": "code",
   "execution_count": null,
   "id": "97977724",
   "metadata": {},
   "outputs": [],
   "source": [
    "# On peut encapsuler plusieurs niveaux de classes\n",
    "# On définit la classe Class en tant que liste de pUser (ex. un classe d'étudiants)\n",
    "class Class(BaseModel):\n",
    "    students: List[pUser]"
   ]
  },
  {
   "cell_type": "code",
   "execution_count": null,
   "id": "18fc0bd0",
   "metadata": {},
   "outputs": [],
   "source": [
    "obj = Class(\n",
    "    students=[pUser(name=\"Jane\", age=32, email=\"jane@gmail.com\")]\n",
    ")"
   ]
  },
  {
   "cell_type": "code",
   "execution_count": null,
   "id": "e1179745",
   "metadata": {},
   "outputs": [],
   "source": [
    "obj"
   ]
  },
  {
   "cell_type": "code",
   "execution_count": null,
   "id": "f733a3c2",
   "metadata": {},
   "outputs": [],
   "source": [
    "# Fonction pour relier Pydantic à OpenAI"
   ]
  },
  {
   "cell_type": "code",
   "execution_count": null,
   "id": "4afe64e1",
   "metadata": {},
   "outputs": [],
   "source": [
    "# On crée une class qui va nous servir pour créer des JSON, et donc définir des fonctions\n",
    "# Field est un module de Pydantic permettant d'intégrer des éléments, tels que \"description\" ici\n",
    "class WeatherSearch(BaseModel):\n",
    "    \"\"\"Call this with an airport code to get the weather at that airport\"\"\"\n",
    "    airport_code: str = Field(description=\"airport code to get weather for\")"
   ]
  },
  {
   "cell_type": "code",
   "execution_count": null,
   "id": "42d5ca6b",
   "metadata": {},
   "outputs": [],
   "source": [
    "# Module à invoquer pour convertir en fonction OpenAI\n",
    "from langchain.utils.openai_functions import convert_pydantic_to_openai_function"
   ]
  },
  {
   "cell_type": "code",
   "execution_count": null,
   "id": "cb42f81f",
   "metadata": {},
   "outputs": [],
   "source": [
    "# Ci-dessous, non seulement on instancie un objet de la classe WeatherSearch,\n",
    "# mais en plus on le convertit en une fonction au format JSON\n",
    "weather_function = convert_pydantic_to_openai_function(WeatherSearch)"
   ]
  },
  {
   "cell_type": "code",
   "execution_count": null,
   "id": "ead70fab",
   "metadata": {},
   "outputs": [],
   "source": [
    "weather_function"
   ]
  },
  {
   "cell_type": "code",
   "execution_count": null,
   "id": "e73afa1e",
   "metadata": {},
   "outputs": [],
   "source": [
    "# Le string document qui permet de décrire la classe est indispensable,\n",
    "# c'est ce qui sert de description générale à la future fonction\n",
    "class WeatherSearch1(BaseModel):\n",
    "    airport_code: str = Field(description=\"airport code to get weather for\")"
   ]
  },
  {
   "cell_type": "code",
   "execution_count": null,
   "id": "4693b4c5",
   "metadata": {},
   "outputs": [],
   "source": [
    "# Ne marche pas\n",
    "convert_pydantic_to_openai_function(WeatherSearch1)"
   ]
  },
  {
   "cell_type": "code",
   "execution_count": null,
   "id": "44f9e1ba",
   "metadata": {},
   "outputs": [],
   "source": [
    "# Ici on ne décrit pas airport_code avec Field dans cette classe\n",
    "# La fonction pourra être créée mais la future \"property\" airport_code n'aura pas de description\n",
    "class WeatherSearch2(BaseModel):\n",
    "    \"\"\"Call this with an airport code to get the weather at that airport\"\"\"\n",
    "    airport_code: str"
   ]
  },
  {
   "cell_type": "code",
   "execution_count": null,
   "id": "a57ef7f7",
   "metadata": {},
   "outputs": [],
   "source": [
    "convert_pydantic_to_openai_function(WeatherSearch2)"
   ]
  },
  {
   "cell_type": "code",
   "execution_count": null,
   "id": "79ca0de9",
   "metadata": {},
   "outputs": [],
   "source": [
    "# On combine Pydantic et un modèle\n",
    "from langchain.chat_models import ChatOpenAI"
   ]
  },
  {
   "cell_type": "code",
   "execution_count": null,
   "id": "6a92b11e",
   "metadata": {},
   "outputs": [],
   "source": [
    "model = ChatOpenAI()"
   ]
  },
  {
   "cell_type": "code",
   "execution_count": null,
   "id": "181b11b0",
   "metadata": {},
   "outputs": [],
   "source": [
    "model.invoke(\"what is the weather in SF today?\", functions=[weather_function])"
   ]
  },
  {
   "cell_type": "code",
   "execution_count": null,
   "id": "94a262ed",
   "metadata": {},
   "outputs": [],
   "source": [
    "# Pour éviter d'appeler les fonctions en même temps qu'on invoque le modèle, on utilise bind\n",
    "# pour intégrer la fonction au modèle\n",
    "model_with_function = model.bind(functions=[weather_function])"
   ]
  },
  {
   "cell_type": "code",
   "execution_count": null,
   "id": "580b65a4",
   "metadata": {},
   "outputs": [],
   "source": [
    "model_with_function.invoke(\"what is the weather in sf?\")"
   ]
  },
  {
   "cell_type": "code",
   "execution_count": null,
   "id": "2b73bdb6",
   "metadata": {},
   "outputs": [],
   "source": [
    "# Utilisation forcée d'une fonction"
   ]
  },
  {
   "cell_type": "code",
   "execution_count": null,
   "id": "d3265199",
   "metadata": {},
   "outputs": [],
   "source": [
    "model_with_forced_function = model.bind(functions=[weather_function], function_call={\"name\":\"WeatherSearch\"})"
   ]
  },
  {
   "cell_type": "code",
   "execution_count": null,
   "id": "f2375876",
   "metadata": {},
   "outputs": [],
   "source": [
    "model_with_forced_function.invoke(\"what is the weather in sf?\")"
   ]
  },
  {
   "cell_type": "code",
   "execution_count": null,
   "id": "b3ea9f26",
   "metadata": {},
   "outputs": [],
   "source": [
    "model_with_forced_function.invoke(\"hi!\")"
   ]
  },
  {
   "cell_type": "code",
   "execution_count": null,
   "id": "9ad60029",
   "metadata": {},
   "outputs": [],
   "source": [
    "# Utilisation d'une chaîne"
   ]
  },
  {
   "cell_type": "code",
   "execution_count": null,
   "id": "b41d59c1",
   "metadata": {},
   "outputs": [],
   "source": [
    "from langchain.prompts import ChatPromptTemplate"
   ]
  },
  {
   "cell_type": "code",
   "execution_count": null,
   "id": "9a368bad",
   "metadata": {},
   "outputs": [],
   "source": [
    "prompt = ChatPromptTemplate.from_messages([\n",
    "    (\"system\", \"You are a helpful assistant\"),\n",
    "    (\"user\", \"{input}\")\n",
    "])"
   ]
  },
  {
   "cell_type": "code",
   "execution_count": null,
   "id": "316f24c9",
   "metadata": {},
   "outputs": [],
   "source": [
    "chain = prompt | model_with_function"
   ]
  },
  {
   "cell_type": "code",
   "execution_count": null,
   "id": "657c6a94",
   "metadata": {},
   "outputs": [],
   "source": [
    "chain.invoke({\"input\": \"what is the weather in sf?\"})"
   ]
  },
  {
   "cell_type": "code",
   "execution_count": null,
   "id": "71000fa6",
   "metadata": {},
   "outputs": [],
   "source": [
    "# Multiple functions\n",
    "# On laisse le LLM décider quelle fonction est la plus pertinente pour répondre à la question"
   ]
  },
  {
   "cell_type": "code",
   "execution_count": null,
   "id": "fe52eb00",
   "metadata": {},
   "outputs": [],
   "source": [
    "class ArtistSearch(BaseModel):\n",
    "    \"\"\"Call this to get the names of songs by a particular artist\"\"\"\n",
    "    artist_name: str = Field(description=\"name of artist to look up\")\n",
    "    n: int = Field(description=\"number of results\")"
   ]
  },
  {
   "cell_type": "code",
   "execution_count": null,
   "id": "85b82ae1",
   "metadata": {},
   "outputs": [],
   "source": [
    "functions = [\n",
    "    convert_pydantic_to_openai_function(WeatherSearch),\n",
    "    convert_pydantic_to_openai_function(ArtistSearch),\n",
    "]"
   ]
  },
  {
   "cell_type": "code",
   "execution_count": null,
   "id": "de0dc5dd",
   "metadata": {},
   "outputs": [],
   "source": [
    "model_with_functions = model.bind(functions=functions)"
   ]
  },
  {
   "cell_type": "code",
   "execution_count": null,
   "id": "ff3cbe31",
   "metadata": {},
   "outputs": [],
   "source": [
    "model_with_functions.invoke(\"what is the weather in sf?\")"
   ]
  },
  {
   "cell_type": "code",
   "execution_count": null,
   "id": "f3677e51",
   "metadata": {},
   "outputs": [],
   "source": [
    "model_with_functions.invoke(\"what are three songs by taylor swift?\")"
   ]
  },
  {
   "cell_type": "code",
   "execution_count": null,
   "id": "64906252",
   "metadata": {},
   "outputs": [],
   "source": [
    "model_with_functions.invoke(\"hi!\")"
   ]
  },
  {
   "cell_type": "code",
   "execution_count": null,
   "id": "158605fe",
   "metadata": {},
   "outputs": [],
   "source": []
  }
 ],
 "metadata": {
  "kernelspec": {
   "display_name": "Python 3 (ipykernel)",
   "language": "python",
   "name": "python3"
  },
  "language_info": {
   "codemirror_mode": {
    "name": "ipython",
    "version": 3
   },
   "file_extension": ".py",
   "mimetype": "text/x-python",
   "name": "python",
   "nbconvert_exporter": "python",
   "pygments_lexer": "ipython3",
   "version": "3.10.8"
  }
 },
 "nbformat": 4,
 "nbformat_minor": 5
}
